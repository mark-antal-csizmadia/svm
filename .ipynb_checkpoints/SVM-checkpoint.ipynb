{
 "cells": [
  {
   "cell_type": "markdown",
   "metadata": {},
   "source": [
    "# Support Vector Machines (SVMs)\n",
    "\n",
    "This notebook includes an implementation of SVMs using numpy and scipy. Scikit-learn is used for data generation."
   ]
  },
  {
   "cell_type": "markdown",
   "metadata": {},
   "source": [
    "## 1. Import packages"
   ]
  },
  {
   "cell_type": "code",
   "execution_count": 1,
   "metadata": {},
   "outputs": [],
   "source": [
    "import numpy as np\n",
    "import math\n",
    "import random\n",
    "from scipy.optimize import minimize\n",
    "import matplotlib.pyplot as plt\n",
    "from sklearn import datasets"
   ]
  },
  {
   "cell_type": "markdown",
   "metadata": {},
   "source": [
    "## 2. Functions used in SVMs."
   ]
  },
  {
   "cell_type": "markdown",
   "metadata": {},
   "source": [
    "### 2.1 Kernel functions"
   ]
  },
  {
   "cell_type": "code",
   "execution_count": 2,
   "metadata": {},
   "outputs": [],
   "source": [
    "def linear_kernel(x, y, **kwargs):\n",
    "    \"\"\" Linear kernel function.\n",
    "    This kernel simply returns the scalar product between the two points.\n",
    "    This results in a linear separation.\n",
    "    \n",
    "    Parameters\n",
    "    ----------\n",
    "    x : np.ndarray\n",
    "        Array of shape (M,1), i.e.: vector, where M is the number of features/dimensions in the\n",
    "        assingment.\n",
    "        \n",
    "    y : np.ndarray\n",
    "        Array of shape (M,1), i.e.: vector, where M is the number of features/dimensions in the\n",
    "        assingment.\n",
    "    \n",
    "    kwargs : dict\n",
    "        Contains parameters of the kernel. In the case of the linear kernel, it is an empty dict.\n",
    "    \n",
    "    Returns\n",
    "    -------\n",
    "    kernel_out : float\n",
    "        Output of linear kernel - scalar product of vector x and y.\n",
    "    \"\"\"\n",
    "    kernel_out = np.dot(x, y)\n",
    "    return kernel_out"
   ]
  },
  {
   "cell_type": "code",
   "execution_count": 3,
   "metadata": {},
   "outputs": [],
   "source": [
    "# Test case\n",
    "test_case_threshold = 10e-4\n",
    "\n",
    "x = np.array([1, -4, 4.5])\n",
    "y = np.array([0.1, 2, 1])\n",
    "kwargs = {}\n",
    "\n",
    "# Test should be: -3.4\n",
    "\n",
    "test = linear_kernel(x=x, y=y, **kwargs)\n",
    "\n",
    "assert abs(test - (-3.4)) < test_case_threshold"
   ]
  },
  {
   "cell_type": "code",
   "execution_count": 4,
   "metadata": {},
   "outputs": [],
   "source": [
    "def polynomial_kernel(x, y, **kwargs):\n",
    "    \"\"\" Polynomial kernel function with polynomial degree p.\n",
    "    This kernel allows for curved decision boundaries. The exponent p (a\n",
    "    positive integer) controls the degree of the polynomials. p = 2 will make\n",
    "    quadratic shapes (ellipses, parabolas, hyperbolas). Setting p = 3 or higher\n",
    "    will result in more complex shapes.\n",
    "    \n",
    "    Parameters\n",
    "    ----------\n",
    "    x : np.ndarray\n",
    "        Array of shape (M,1), i.e.: vector, where M is the number of features/dimensions in the\n",
    "        assingment.\n",
    "        \n",
    "    y : np.ndarray\n",
    "        Array of shape (M,1), i.e.: vector, where M is the number of features/dimensions in the\n",
    "        assingment.\n",
    "        \n",
    "    \n",
    "    kwargs : dict\n",
    "        Contains parameters of the kernel. In the case of the polynomial kernel, it contains \n",
    "        p (type int) that is the polynomial degree of kernel function.\n",
    "    \n",
    "    Returns\n",
    "    -------\n",
    "    kernel_out : float\n",
    "        Output of polynomial kernel.\n",
    "    \"\"\"\n",
    "    p = kwargs[\"p\"]\n",
    "    kernel_out = np.power(np.dot(x, y) + 1, p)\n",
    "    return kernel_out"
   ]
  },
  {
   "cell_type": "code",
   "execution_count": 5,
   "metadata": {},
   "outputs": [],
   "source": [
    "# Test case\n",
    "test_case_threshold = 10e-4\n",
    "\n",
    "x = np.array([1, -4, 4.5])\n",
    "y = np.array([0.1, 2, 1])\n",
    "kwargs = {\"p\":4}\n",
    "\n",
    "# Test should be: 33.1776\n",
    "\n",
    "test = polynomial_kernel(x=x, y=y, **kwargs)\n",
    "\n",
    "assert abs(test - (33.1776)) < test_case_threshold"
   ]
  },
  {
   "cell_type": "code",
   "execution_count": 6,
   "metadata": {},
   "outputs": [],
   "source": [
    "def radial_basis_function_kernel(x, y, **kwargs):\n",
    "    \"\"\" Radial Basis Function (RBF) kernel.\n",
    "    This kernel uses the explicit euclidian distance between the two datapoints,\n",
    "    and often results in very good boundaries. The parameter delta is used to\n",
    "    control the smoothness of the boundary.\n",
    "    \n",
    "    Parameters\n",
    "    ----------\n",
    "    x : np.ndarray\n",
    "        Array of shape (M,1), i.e.: vector, where M is the number of features/dimensions in the\n",
    "        assingment.\n",
    "        \n",
    "    y : np.ndarray\n",
    "        Array of shape (M,1), i.e.: vector, where M is the number of features/dimensions in the\n",
    "        assingment.\n",
    "        \n",
    "    kwargs : dict\n",
    "        Contains parameters of kernel. In the case of the Radial Basis Function (RBF) kernel, \n",
    "        it contains delta (type float) that is the parameter controlling the smoothness \n",
    "        of the decision boundary.\n",
    "    \n",
    "    Returns\n",
    "    -------\n",
    "    kernel_out : float\n",
    "        Output of RBF kernel.\n",
    "    \"\"\"\n",
    "    delta = kwargs[\"delta\"]\n",
    "    kernel_out = np.exp(-np.linalg.norm(np.subtract(x, y), 2) / (2 * np.power(delta, 2)))\n",
    "    return kernel_out"
   ]
  },
  {
   "cell_type": "code",
   "execution_count": 7,
   "metadata": {},
   "outputs": [],
   "source": [
    "# Test case\n",
    "test_case_threshold = 10e-4\n",
    "\n",
    "x = np.array([1, -4, 4.5])\n",
    "y = np.array([0.1, 2, 1])\n",
    "kwargs = {\"delta\": 2.5}\n",
    "\n",
    "# Test should be: 0.5710\n",
    "\n",
    "test = radial_basis_function_kernel(x=x, y=y, **kwargs)\n",
    "\n",
    "assert abs(test - 0.5710) < test_case_threshold"
   ]
  },
  {
   "cell_type": "markdown",
   "metadata": {},
   "source": [
    "### 2.2 Objective function"
   ]
  },
  {
   "cell_type": "code",
   "execution_count": 8,
   "metadata": {},
   "outputs": [],
   "source": [
    "def pre_compute(inputs, targets, kernel, **kwargs):\n",
    "    \"\"\" Pre-compute part of the objective function to speed up training.\n",
    "    \n",
    "    Parameters\n",
    "    ----------\n",
    "    inputs : np.ndarray\n",
    "        Array of shape (N,M) where N is the number of data points and M is the \n",
    "        number of features (2 in the assingment).\n",
    "        \n",
    "    targets : np.ndarray\n",
    "        Array of shape (N,1), i.e.: vector, where N is the number of data points in the\n",
    "        assingment. Elements are either 1 or -1, signifying the true label of a data point.\n",
    "        \n",
    "    kernel : function\n",
    "        The kernel function.\n",
    "    \n",
    "    kwargs : dict\n",
    "        Contains parameters of the kernel. \n",
    "        In the case of the linear kernel, it is an empty dict.\n",
    "        In the case of the polynomial kernel, it contains p (type int) that is the polynomial \n",
    "        degree of kernel function.\n",
    "        In the case of the Radial Basis Function (RBF) kernel, it contains delta (type float) \n",
    "        that is the parameter controlling the smoothness of the decision boundary.\n",
    "    \n",
    "    Returns\n",
    "    -------\n",
    "    pre_computed : np.ndarray\n",
    "        Matrix with the pre-computed values of shape (N,N).\n",
    "    \"\"\"\n",
    "    N = inputs.shape[0]\n",
    "    \n",
    "    pre_computed = np.zeros((N,N))\n",
    "    \n",
    "    for i in range(N):\n",
    "        for j in range(N):\n",
    "            pre_computed[i][j] = targets[i] * targets[j] * kernel(x=inputs[i], y=inputs[j], **kwargs)\n",
    "    \n",
    "    return pre_computed\n",
    "\n",
    "\n",
    "def objective_func(alpha):\n",
    "    \"\"\" The objective function of the SVM that is minimized.\n",
    "    \n",
    "    Parameters\n",
    "    ----------\n",
    "    alpha : np.ndarray\n",
    "        Array of shape (N,1), i.e.: vector, where N is the number of data points in the\n",
    "        assingment. Alpha is the vector of Lagrange multipliers for each data point.\n",
    "    \n",
    "    Returns\n",
    "    -------\n",
    "    obj_min : float\n",
    "        Output of objective function to be minimized.\n",
    "        \n",
    "    Notes\n",
    "    -----\n",
    "    To not optimize constants, the function uses global variables instead of passed in function arguments.\n",
    "    Global variables: pre_computed.\n",
    "    Only argument to be optimized is alpha.\n",
    "    \"\"\"\n",
    "    N = alpha.shape[0]\n",
    "    \n",
    "    accumulator_core = 0\n",
    "    accumulator_alpha = 0\n",
    "    \n",
    "    for i in range(N):\n",
    "        accumulator_alpha = accumulator_alpha + alpha[i]\n",
    "        \n",
    "        for j in range(N):\n",
    "            accumulator_core = accumulator_core + alpha[i] * alpha[j] * pre_computed[i][j]\n",
    "    \n",
    "    obj_min = 0.5 * accumulator_core - accumulator_alpha\n",
    "    \n",
    "    return obj_min"
   ]
  },
  {
   "cell_type": "markdown",
   "metadata": {},
   "source": [
    "### 2.3 Optimizer arguments"
   ]
  },
  {
   "cell_type": "code",
   "execution_count": 9,
   "metadata": {},
   "outputs": [],
   "source": [
    "def zero_fun(alpha):\n",
    "    \"\"\" A constraint of the objective function of the SVM.\n",
    "    \n",
    "    Parameters\n",
    "    ----------\n",
    "    alpha : np.ndarray\n",
    "        Array of shape (N,1), i.e.: vector, where N is the number of data points in the\n",
    "        assingment. Alpha is the vector of Lagrange multipliers for each data point.\n",
    "    \n",
    "    targets : np.ndarray\n",
    "        Array of shape (N,1), i.e.: vector, where N is the number of data points in the\n",
    "        assingment. Elements are either 1 or -1, signifying the true label of a data point.\n",
    "    \n",
    "    Returns\n",
    "    -------\n",
    "    constraint : float\n",
    "        Constraint expressed as the output of the function.\n",
    "    \"\"\"\n",
    "    constraint = np.dot(alpha, targets)\n",
    "    return constraint"
   ]
  },
  {
   "cell_type": "code",
   "execution_count": 11,
   "metadata": {},
   "outputs": [],
   "source": [
    "def reduce_comp(inputs, targets, alpha, threshold=10e-5):\n",
    "    \"\"\" Reduces computation inside the objective function via pre-computing an NxN matrix.\n",
    "    \n",
    "    Parameters\n",
    "    ----------\n",
    "    inputs : np.ndarray\n",
    "        Array of shape (N,M) where N is the number of data points and M is the \n",
    "        number of features (2 in the assingment).\n",
    "        \n",
    "    targets : np.ndarray\n",
    "        Array of shape (N,1), i.e.: vector, where N is the number of data points in the\n",
    "        assingment. Elements are either 1 or -1, signifying the true label of a data point.\n",
    "    \n",
    "    alpha : np.ndarray\n",
    "        Array of shape (N,1), i.e.: vector, where N is the number of data points in the\n",
    "        assingment. Alpha is the vector of Lagrange multipliers for each data point.\n",
    "        \n",
    "    threshold : float\n",
    "        Threshold for determining whether a Lagrange multiplier is 0 (i.e.: within the threshold value).\n",
    "        Needed to find support vectors.\n",
    "        \n",
    "    Returns\n",
    "    -------\n",
    "    support_vecs : np.ndarray\n",
    "        Array of support vectors of shape (N', M) where N' is the number of support vectors, \n",
    "        and M is the number of features. M is 2 in the assingment.\n",
    "        \n",
    "    support_vec_targets : np.ndarray\n",
    "        Array of the support vector targets of shape (N', 1) where N' is the number of support vectors.\n",
    "        \n",
    "    support_vec_alpha : np.ndarray\n",
    "        Array of the support vector alpha values (Lagrange multiplier values) of shape (N', 1) \n",
    "        where N' is the number of support vectors.\n",
    "    \"\"\"\n",
    "    # Mask alpha values that are greater than zero (use a threshold).\n",
    "    boolean_mask = threshold < alpha\n",
    "    \n",
    "    # Get the support vectors and their corresponding target and alpha values.\n",
    "    support_vecs, support_vec_targets, support_vec_alpha = \\\n",
    "        inputs[boolean_mask], targets[boolean_mask], alpha[boolean_mask]\n",
    "    \n",
    "    return support_vecs, support_vec_targets, support_vec_alpha"
   ]
  },
  {
   "cell_type": "markdown",
   "metadata": {},
   "source": [
    "### 2.4 Indicator function for classification"
   ]
  },
  {
   "cell_type": "code",
   "execution_count": 12,
   "metadata": {},
   "outputs": [],
   "source": [
    "def indicator_func(new_input, support_vecs, support_vec_targets, support_vec_alpha, kernel, **kwargs):\n",
    "    \"\"\" Indicator function of SVM. This is the classifier of the SVM.\n",
    "    \n",
    "    Parameters\n",
    "    ----------\n",
    "    new_input : np.ndarray\n",
    "        Array of shape (1,M) where M is the number of features (2 in the assingment).\n",
    "        \n",
    "    support_vecs : np.ndarray\n",
    "        Array of support vectors of shape (N', M) where N' is the number of support vectors, \n",
    "        and M is the number of features. M is 2 in the assingment.\n",
    "        \n",
    "    support_vec_targets : np.ndarray\n",
    "        Array of the support vector targets of shape (N', 1) where N' is the number of support vectors.\n",
    "        \n",
    "    support_vec_alpha : np.ndarray\n",
    "        Array of the support vector alpha values (Lagrange multiplier values) of shape (N', 1) \n",
    "        where N' is the number of support vectors.v\n",
    "        \n",
    "    kernel : function\n",
    "        The kernel function.\n",
    "    \n",
    "    kwargs : dict\n",
    "        Contains parameters of the kernel. \n",
    "        In the case of the linear kernel, it is an empty dict.\n",
    "        In the case of the polynomial kernel, it contains p (type int) that is the polynomial \n",
    "        degree of kernel function.\n",
    "        In the case of the Radial Basis Function (RBF) kernel, it contains delta (type float) \n",
    "        that is the parameter controlling the smoothness of the decision boundary.\n",
    "        \n",
    "    Returns\n",
    "    -------\n",
    "    ind : float\n",
    "        Indicator value, i.e.: classification, of the new data point new_input.\n",
    "    \"\"\"\n",
    "    # Number of support vectors.\n",
    "    N = support_vecs.shape[0]\n",
    "    \n",
    "    # Select a support vector at random to use for computing the bias.\n",
    "    # Set random seed to always select the same bias! \n",
    "    np.random.seed(200)\n",
    "    support_vec_indices = list(range(support_vecs.shape[0]))\n",
    "    support_vec_idx = np.random.choice(support_vec_indices)\n",
    "    support_vec = support_vecs[support_vec_idx]\n",
    "    support_vec_target = support_vec_targets[support_vec_idx]\n",
    "    \n",
    "    # Compute bias term.\n",
    "    b = 0\n",
    "    for i in range(N):\n",
    "        b = b + support_vec_alpha[i] * support_vec_targets[i] * kernel(support_vec, support_vecs[i], **kwargs)\n",
    "    b = b - support_vec_target\n",
    "    \n",
    "    # Using the bias, comptue the indicator value.\n",
    "    ind = 0\n",
    "    for i in range(N):\n",
    "        ind = ind + support_vec_alpha[i] * support_vec_targets[i] * kernel(new_input, support_vecs[i], **kwargs)\n",
    "    ind = ind - b\n",
    "    \n",
    "    return ind\n",
    "        "
   ]
  },
  {
   "cell_type": "markdown",
   "metadata": {},
   "source": [
    "## 3. Simple problem, linearly separable data"
   ]
  },
  {
   "cell_type": "markdown",
   "metadata": {},
   "source": [
    "### 3.1 Data generation"
   ]
  },
  {
   "cell_type": "code",
   "execution_count": 13,
   "metadata": {},
   "outputs": [],
   "source": [
    "# Easy data\n",
    "# Set random seed\n",
    "np.random.seed(100)\n",
    "\n",
    "# Create data classA.\n",
    "classA = np.concatenate((np.random.randn(10, 2) * 0.2 + [1.5, 0.5], \n",
    "                         np.random.randn(10, 2) * 0.2 + [-1.5, 0.5]))\n",
    "\n",
    "# Create data classB.\n",
    "classB = np.random.randn(20, 2) * 0.2 + [0.0, -0.5]\n",
    "\n",
    "# Concatenate classA and classB to get the input data.\n",
    "inputs = np.concatenate((classA, classB))\n",
    "\n",
    "# Set the labels/targets for each trainign data point. classA is label 1, classB is label -1.\n",
    "targets = np.concatenate((np.ones(classA.shape[0]), -np.ones(classB.shape[0])))\n",
    "\n",
    "# Get the number of training data points.\n",
    "N = inputs.shape[0]\n",
    "\n",
    "# Randomly reorder the data and the labels (same random ordering).\n",
    "permute = list(range(N))\n",
    "random.shuffle(permute)\n",
    "\n",
    "inputs = inputs[permute, :]\n",
    "targets = targets[permute]"
   ]
  },
  {
   "cell_type": "markdown",
   "metadata": {},
   "source": [
    "### 3.2 Visualizing data"
   ]
  },
  {
   "cell_type": "code",
   "execution_count": 14,
   "metadata": {},
   "outputs": [
    {
     "data": {
      "image/png": "[encoded data removed]",
      "text/plain": [
       "<Figure size 432x288 with 1 Axes>"
      ]
     },
     "metadata": {
      "needs_background": "light"
     },
     "output_type": "display_data"
    }
   ],
   "source": [
    "plt.scatter([p[0] for p in classA], [p[1] for p in classA], c=\"b\")\n",
    "plt.scatter([p[0] for p in classB], [p[1] for p in classB], c=\"r\")\n",
    "\n",
    "plt.axis(\"equal\")\n",
    "#plt.savefig(\"svmplot.pdf\")\n",
    "plt.show()"
   ]
  },
  {
   "cell_type": "markdown",
   "metadata": {},
   "source": [
    "### 3.3 Training"
   ]
  },
  {
   "cell_type": "code",
   "execution_count": 16,
   "metadata": {},
   "outputs": [
    {
     "name": "stdout",
     "output_type": "stream",
     "text": [
      "3 support vectors have been found.\n"
     ]
    }
   ],
   "source": [
    "# N is the number of training data points.\n",
    "N = inputs.shape[0]\n",
    "\n",
    "# Initialize the alpha vector with 0s.\n",
    "start = np.zeros(N)\n",
    "\n",
    "# Boundary conditions. Wihtout slack, there is only lower boundary.\n",
    "C = None\n",
    "B = [(0,C) for b in range(N)]\n",
    "\n",
    "# Constraints.\n",
    "XC = {'type':'eq', 'fun':zero_fun}\n",
    "\n",
    "# Select the linear kernel for this simple problem.\n",
    "kwargs = {}\n",
    "kernel = linear_kernel\n",
    "\n",
    "# Pre-compute the constant part of the objective function.\n",
    "pre_computed = pre_compute(inputs=inputs, targets=targets, kernel=kernel, **kwargs)\n",
    "\n",
    "# Optimize the alphas.\n",
    "ret = minimize(objective_func, start, bounds=B, constraints=XC)\n",
    "\n",
    "# Assert if optimizer converged to a solution.\n",
    "assert ret['success'] == True, \"Failed to fit model. Try a more complex model or more slack for this complex data.\"\n",
    "\n",
    "# Retrieve alpha.\n",
    "alpha = ret[\"x\"]\n",
    "\n",
    "# Extract the support vectors, their targets, and alpha values. \n",
    "support_vecs, support_vec_targets, support_vec_alpha = reduce_comp(inputs, targets, alpha)\n",
    "print(f\"{support_vecs.shape[0]} support vectors have been found.\")"
   ]
  },
  {
   "cell_type": "markdown",
   "metadata": {},
   "source": [
    "### 3.4 Visualizing the decision boundary and a new data point"
   ]
  },
  {
   "cell_type": "code",
   "execution_count": 17,
   "metadata": {},
   "outputs": [
    {
     "name": "stdout",
     "output_type": "stream",
     "text": [
      "Classifer: 3.7444232375165165\n"
     ]
    },
    {
     "data": {
      "image/png": "[encoded data removed]",
      "text/plain": [
       "<Figure size 432x288 with 1 Axes>"
      ]
     },
     "metadata": {
      "needs_background": "light"
     },
     "output_type": "display_data"
    }
   ],
   "source": [
    "# Define new point and classify it using the indicator function.\n",
    "new_input = np.array([-0.6, 0.75])\n",
    "ind = indicator_func(new_input, support_vecs, support_vec_targets, support_vec_alpha, kernel, **kwargs)\n",
    "print(f\"Classifer: {ind}\")\n",
    "\n",
    "# Set limits for the contour plot.\n",
    "xlim = 2.5\n",
    "ylim = 1.5\n",
    "\n",
    "# Set the grid of the contour plot using the indicator function.\n",
    "xgrid = np.linspace(-xlim, xlim)\n",
    "ygrid = np.linspace(-ylim, ylim)\n",
    "grid = np.array(\n",
    "    [[indicator_func(np.array([x, y]), support_vecs, support_vec_targets, support_vec_alpha, kernel, **kwargs)\n",
    "    for x in xgrid] for y in ygrid])\n",
    "\n",
    "# Plot the contour. classB (target is -1) is red, classA (target is 1) is blue.\n",
    "plt.contour(xgrid, ygrid, grid, (-1.0, 0.0, 1.0), colors=('red', 'black', 'blue'), linewidths=(1, 3, 1))\n",
    "\n",
    "# Scatter plot the data.\n",
    "plt.scatter([p[0] for p in classA], [p[1] for p in classA], c=\"b\")\n",
    "plt.scatter([p[0] for p in classB], [p[1] for p in classB], c=\"r\")\n",
    "\n",
    "# Retrive the support vectors for each class.\n",
    "support_vecs_classA = support_vecs[support_vec_targets == 1]\n",
    "support_vecs_classB = support_vecs[support_vec_targets == -1]\n",
    "\n",
    "# Scatter plot the support vectors with the corresponding colours.\n",
    "plt.scatter([p[0] for p in support_vecs_classA],[p[1] for p in support_vecs_classA], c=\"c\", marker=\"o\")\n",
    "plt.scatter([p[0] for p in support_vecs_classB],[p[1] for p in support_vecs_classB], c=\"m\", marker=\"o\")\n",
    "\n",
    "# Scatter plot the new data point with the correct colour.\n",
    "plt.scatter(new_input[0], new_input[1], c=\"r\" if ind < 0 else \"b\", marker=\"x\", s=35)\n",
    "\n",
    "# Set the axes to be of equal lenght.\n",
    "plt.axis(\"equal\")\n",
    "plt.xlabel(\"x1\")\n",
    "plt.ylabel(\"x2\")\n",
    "\n",
    "# Save the figure.\n",
    "#plt.savefig(\"svmplot.pdf\")\n",
    "\n",
    "# Plot the figure.\n",
    "plt.show()"
   ]
  },
  {
   "cell_type": "markdown",
   "metadata": {},
   "source": [
    "## 4. Slightly more difficult problem, data linearly not separable"
   ]
  },
  {
   "cell_type": "markdown",
   "metadata": {},
   "source": [
    "### 4.1 Data generation"
   ]
  },
  {
   "cell_type": "code",
   "execution_count": 18,
   "metadata": {},
   "outputs": [],
   "source": [
    "# Create data classA.\n",
    "np.random.seed(105)\n",
    "\n",
    "classA = np.concatenate((np.random.randn(10, 2) * 0.4 + [1.5, -0.5], \n",
    "                         np.random.randn(10, 2) * 0.4 + [-1.5, 0.5]))\n",
    "\n",
    "# Create data classB.\n",
    "classB = np.random.randn(20, 2) * 0.3 + [0.0, -0.9]\n",
    "\n",
    "# Concatenate classA and classB to get the input data.\n",
    "inputs = np.concatenate((classA, classB))\n",
    "\n",
    "# Set the labels/targets for each trainign data point. classA is label 1, classB is label -1.\n",
    "targets = np.concatenate((np.ones(classA.shape[0]), -np.ones(classB.shape[0])))\n",
    "\n",
    "# Get the number of training data points.\n",
    "N = inputs.shape[0]\n",
    "\n",
    "# Randomly reorder the data and the labels (same random ordering).\n",
    "permute = list(range(N))\n",
    "random.shuffle(permute)\n",
    "\n",
    "inputs = inputs[permute, :]\n",
    "targets = targets[permute]"
   ]
  },
  {
   "cell_type": "markdown",
   "metadata": {},
   "source": [
    "### 4.2 Visualizing data"
   ]
  },
  {
   "cell_type": "code",
   "execution_count": 19,
   "metadata": {},
   "outputs": [
    {
     "data": {
      "image/png": "[encoded data removed]",
      "text/plain": [
       "<Figure size 432x288 with 1 Axes>"
      ]
     },
     "metadata": {
      "needs_background": "light"
     },
     "output_type": "display_data"
    }
   ],
   "source": [
    "plt.scatter([p[0] for p in classA], [p[1] for p in classA], c=\"b\")\n",
    "plt.scatter([p[0] for p in classB], [p[1] for p in classB], c=\"r\")\n",
    "\n",
    "plt.axis(\"equal\")\n",
    "#plt.savefig(\"svmplot.pdf\")\n",
    "plt.show()"
   ]
  },
  {
   "cell_type": "markdown",
   "metadata": {},
   "source": [
    "### 4.3.1 Training (linear model without slack fails)"
   ]
  },
  {
   "cell_type": "code",
   "execution_count": 20,
   "metadata": {},
   "outputs": [
    {
     "ename": "AssertionError",
     "evalue": "Failed to fit model. Try a more complex model or more slack for this complex data.",
     "output_type": "error",
     "traceback": [
      "\u001b[0;31m---------------------------------------------------------------------------\u001b[0m",
      "\u001b[0;31mAssertionError\u001b[0m                            Traceback (most recent call last)",
      "\u001b[0;32m<ipython-input-20-17708eb16ffb>\u001b[0m in \u001b[0;36m<module>\u001b[0;34m\u001b[0m\n\u001b[1;32m     22\u001b[0m \u001b[0;34m\u001b[0m\u001b[0m\n\u001b[1;32m     23\u001b[0m \u001b[0;31m# Assert if optimizer converged to a solution.\u001b[0m\u001b[0;34m\u001b[0m\u001b[0;34m\u001b[0m\u001b[0;34m\u001b[0m\u001b[0m\n\u001b[0;32m---> 24\u001b[0;31m \u001b[0;32massert\u001b[0m \u001b[0mret\u001b[0m\u001b[0;34m[\u001b[0m\u001b[0;34m'success'\u001b[0m\u001b[0;34m]\u001b[0m \u001b[0;34m==\u001b[0m \u001b[0;32mTrue\u001b[0m\u001b[0;34m,\u001b[0m \u001b[0;34m\"Failed to fit model. Try a more complex model or more slack for this complex data.\"\u001b[0m\u001b[0;34m\u001b[0m\u001b[0;34m\u001b[0m\u001b[0m\n\u001b[0m\u001b[1;32m     25\u001b[0m \u001b[0;34m\u001b[0m\u001b[0m\n\u001b[1;32m     26\u001b[0m \u001b[0;31m# Retrieve alpha.\u001b[0m\u001b[0;34m\u001b[0m\u001b[0;34m\u001b[0m\u001b[0;34m\u001b[0m\u001b[0m\n",
      "\u001b[0;31mAssertionError\u001b[0m: Failed to fit model. Try a more complex model or more slack for this complex data."
     ]
    }
   ],
   "source": [
    "# N is the number of training data points.\n",
    "N = inputs.shape[0]\n",
    "\n",
    "# Initialize the alpha vector with 0s.\n",
    "start = np.zeros(N)\n",
    "\n",
    "# Boundary conditions. Wihtout slack, there is only lower boundary.\n",
    "B = [(0,None) for b in range(N)]\n",
    "\n",
    "# Constraints.\n",
    "XC = {'type':'eq', 'fun':zero_fun}\n",
    "\n",
    "# Select the linear kernel for this simple problem.\n",
    "kwargs = {}\n",
    "kernel = linear_kernel\n",
    "\n",
    "# Pre-compute the constant part of the objective function.\n",
    "pre_computed = pre_compute(inputs=inputs, targets=targets, kernel=kernel, **kwargs)\n",
    "\n",
    "# Optimize the alphas.\n",
    "ret = minimize(objective_func, start, bounds=B, constraints=XC)\n",
    "\n",
    "# Assert if optimizer converged to a solution.\n",
    "assert ret['success'] == True, \"Failed to fit model. Try a more complex model or more slack for this complex data.\"\n",
    "\n",
    "# Retrieve alpha.\n",
    "alpha = ret[\"x\"]\n",
    "\n",
    "# Extract the support vectors, their targets, and alpha values. \n",
    "support_vecs, support_vec_targets, support_vec_alpha = reduce_comp(inputs, targets, alpha)\n",
    "print(f\"{support_vecs.shape[0]} support vectors have been found.\")"
   ]
  },
  {
   "cell_type": "markdown",
   "metadata": {},
   "source": [
    "### 4.3.2 Training (optimization converges with slack)"
   ]
  },
  {
   "cell_type": "code",
   "execution_count": 23,
   "metadata": {},
   "outputs": [
    {
     "name": "stdout",
     "output_type": "stream",
     "text": [
      "11 support vectors have been found.\n"
     ]
    }
   ],
   "source": [
    "# N is the number of training data points.\n",
    "N = inputs.shape[0]\n",
    "\n",
    "# Initialize the alpha vector with 0s.\n",
    "start = np.zeros(N)\n",
    "\n",
    "# Adding slack variables. Boundary conditions. Wiht slack, there is both a lower and upper boundary.\n",
    "C = 5\n",
    "B = [(0,C) for b in range(N)]\n",
    "\n",
    "# Constraints.\n",
    "XC = {'type':'eq', 'fun':zero_fun}\n",
    "\n",
    "# Select the linear kernel for this simple problem.\n",
    "kwargs = {}\n",
    "kernel = linear_kernel\n",
    "\n",
    "# Pre-compute the constant part of the objective function.\n",
    "pre_computed = pre_compute(inputs=inputs, targets=targets, kernel=kernel, **kwargs)\n",
    "\n",
    "# Optimize the alphas.\n",
    "ret = minimize(objective_func, start, bounds=B, constraints=XC)\n",
    "\n",
    "# Assert if optimizer converged to a solution.\n",
    "assert ret['success'] == True, \"Failed to fit model. Try a more complex model or more slack for this complex data.\"\n",
    "\n",
    "# Retrieve alpha.\n",
    "alpha = ret[\"x\"]\n",
    "\n",
    "# Extract the support vectors, their targets, and alpha values. \n",
    "support_vecs, support_vec_targets, support_vec_alpha = reduce_comp(inputs, targets, alpha)\n",
    "print(f\"{support_vecs.shape[0]} support vectors have been found.\")"
   ]
  },
  {
   "cell_type": "markdown",
   "metadata": {},
   "source": [
    "### 4.3.3 Visualizing the decision boundary and a new data point"
   ]
  },
  {
   "cell_type": "code",
   "execution_count": 24,
   "metadata": {},
   "outputs": [
    {
     "name": "stdout",
     "output_type": "stream",
     "text": [
      "Classifer: 3.1941122269801316\n"
     ]
    },
    {
     "data": {
      "image/png": "[encoded data removed]",
      "text/plain": [
       "<Figure size 432x288 with 1 Axes>"
      ]
     },
     "metadata": {
      "needs_background": "light"
     },
     "output_type": "display_data"
    }
   ],
   "source": [
    "# Define new point and classify it using the indicator function.\n",
    "new_input = np.array([-0.6, 0.75])\n",
    "ind = indicator_func(new_input, support_vecs, support_vec_targets, support_vec_alpha, kernel, **kwargs)\n",
    "print(f\"Classifer: {ind}\")\n",
    "\n",
    "# Set limits for the contour plot.\n",
    "xlim = 2.5\n",
    "ylim = 1.5\n",
    "\n",
    "# Set the grid of the contour plot using the indicator function.\n",
    "xgrid = np.linspace(-xlim, xlim)\n",
    "ygrid = np.linspace(-ylim, ylim)\n",
    "grid = np.array(\n",
    "    [[indicator_func(np.array([x, y]), support_vecs, support_vec_targets, support_vec_alpha, kernel, **kwargs)\n",
    "    for x in xgrid] for y in ygrid])\n",
    "\n",
    "# Plot the contour. classB (target is -1) is red, classA (target is 1) is blue.\n",
    "plt.contour(xgrid, ygrid, grid, (-1.0, 0.0, 1.0), colors=('red', 'black', 'blue'), linewidths=(1, 3, 1))\n",
    "\n",
    "# Scatter plot the data.\n",
    "plt.scatter([p[0] for p in classA], [p[1] for p in classA], c=\"b\")\n",
    "plt.scatter([p[0] for p in classB], [p[1] for p in classB], c=\"r\")\n",
    "\n",
    "# Retrive the support vectors for each class.\n",
    "support_vecs_classA = support_vecs[support_vec_targets == 1]\n",
    "support_vecs_classB = support_vecs[support_vec_targets == -1]\n",
    "\n",
    "# Scatter plot the support vectors with the corresponding colours.\n",
    "plt.scatter([p[0] for p in support_vecs_classA],[p[1] for p in support_vecs_classA], c=\"c\", marker=\"o\")\n",
    "plt.scatter([p[0] for p in support_vecs_classB],[p[1] for p in support_vecs_classB], c=\"m\", marker=\"o\")\n",
    "\n",
    "# Scatter plot the new data point with the correct colour.\n",
    "plt.scatter(new_input[0], new_input[1], c=\"r\" if ind < 0 else \"b\", marker=\"x\", s=35)\n",
    "\n",
    "# Set the axes to be of equal lenght.\n",
    "plt.axis(\"equal\")\n",
    "plt.xlabel(\"x1\")\n",
    "plt.ylabel(\"x2\")\n",
    "\n",
    "# Save the figure.\n",
    "#plt.savefig(\"svmplot.pdf\")\n",
    "\n",
    "# Plot the figure.\n",
    "plt.show()"
   ]
  },
  {
   "cell_type": "markdown",
   "metadata": {},
   "source": [
    "### 4.4.1 Training (optimization converges with more complex model)"
   ]
  },
  {
   "cell_type": "code",
   "execution_count": 25,
   "metadata": {},
   "outputs": [
    {
     "name": "stdout",
     "output_type": "stream",
     "text": [
      "5 support vectors have been found.\n"
     ]
    }
   ],
   "source": [
    "# N is the number of training data points.\n",
    "N = inputs.shape[0]\n",
    "\n",
    "# Initialize the alpha vector with 0s.\n",
    "start = np.zeros(N)\n",
    "\n",
    "# Boundary conditions. Wihtout slack, there is only lower boundary.\n",
    "B = [(0,None) for b in range(N)]\n",
    "\n",
    "# Constraints.\n",
    "XC = {'type':'eq', 'fun':zero_fun}\n",
    "\n",
    "# Select the linear kernel for this simple problem.\n",
    "kwargs = {\"p\": 2}\n",
    "kernel = polynomial_kernel\n",
    "\n",
    "# Pre-compute the constant part of the objective function.\n",
    "pre_computed = pre_compute(inputs=inputs, targets=targets, kernel=kernel, **kwargs)\n",
    "\n",
    "# Optimize the alphas.\n",
    "ret = minimize(objective_func, start, bounds=B, constraints=XC)\n",
    "\n",
    "# Assert if optimizer converged to a solution.\n",
    "assert ret['success'] == True, \"Failed to fit model. Try a more complex model or more slack for this complex data.\"\n",
    "\n",
    "# Retrieve alpha.\n",
    "alpha = ret[\"x\"]\n",
    "\n",
    "# Extract the support vectors, their targets, and alpha values. \n",
    "support_vecs, support_vec_targets, support_vec_alpha = reduce_comp(inputs, targets, alpha)\n",
    "print(f\"{support_vecs.shape[0]} support vectors have been found.\")"
   ]
  },
  {
   "cell_type": "markdown",
   "metadata": {},
   "source": [
    "### 4.4.2 Visualizing the decision boundary and a new data point"
   ]
  },
  {
   "cell_type": "code",
   "execution_count": 26,
   "metadata": {},
   "outputs": [
    {
     "name": "stdout",
     "output_type": "stream",
     "text": [
      "Classifer: 0.23350503064352757\n"
     ]
    },
    {
     "data": {
      "image/png": "[encoded data removed]",
      "text/plain": [
       "<Figure size 432x288 with 1 Axes>"
      ]
     },
     "metadata": {
      "needs_background": "light"
     },
     "output_type": "display_data"
    }
   ],
   "source": [
    "# Define new point and classify it using the indicator function.\n",
    "new_input = np.array([-0.6, 0.75])\n",
    "ind = indicator_func(new_input, support_vecs, support_vec_targets, support_vec_alpha, kernel, **kwargs)\n",
    "print(f\"Classifer: {ind}\")\n",
    "\n",
    "# Set limits for the contour plot.\n",
    "xlim = 2.5\n",
    "ylim = 1.5\n",
    "\n",
    "# Set the grid of the contour plot using the indicator function.\n",
    "xgrid = np.linspace(-xlim, xlim)\n",
    "ygrid = np.linspace(-ylim, ylim)\n",
    "grid = np.array(\n",
    "    [[indicator_func(np.array([x, y]), support_vecs, support_vec_targets, support_vec_alpha, kernel, **kwargs)\n",
    "    for x in xgrid] for y in ygrid])\n",
    "\n",
    "# Plot the contour. classB (target is -1) is red, classA (target is 1) is blue.\n",
    "plt.contour(xgrid, ygrid, grid, (-1.0, 0.0, 1.0), colors=('red', 'black', 'blue'), linewidths=(1, 3, 1))\n",
    "\n",
    "# Scatter plot the data.\n",
    "plt.scatter([p[0] for p in classA], [p[1] for p in classA], c=\"b\")\n",
    "plt.scatter([p[0] for p in classB], [p[1] for p in classB], c=\"r\")\n",
    "\n",
    "# Retrive the support vectors for each class.\n",
    "support_vecs_classA = support_vecs[support_vec_targets == 1]\n",
    "support_vecs_classB = support_vecs[support_vec_targets == -1]\n",
    "\n",
    "# Scatter plot the support vectors with the corresponding colours.\n",
    "plt.scatter([p[0] for p in support_vecs_classA],[p[1] for p in support_vecs_classA], c=\"c\", marker=\"o\")\n",
    "plt.scatter([p[0] for p in support_vecs_classB],[p[1] for p in support_vecs_classB], c=\"m\", marker=\"o\")\n",
    "\n",
    "# Scatter plot the new data point with the correct colour.\n",
    "plt.scatter(new_input[0], new_input[1], c=\"r\" if ind < 0 else \"b\", marker=\"x\", s=35)\n",
    "\n",
    "# Set the axes to be of equal lenght.\n",
    "plt.axis(\"equal\")\n",
    "plt.xlabel(\"x1\")\n",
    "plt.ylabel(\"x2\")\n",
    "\n",
    "# Save the figure.\n",
    "#plt.savefig(\"svmplot.pdf\")\n",
    "\n",
    "# Plot the figure.\n",
    "plt.show()"
   ]
  },
  {
   "cell_type": "markdown",
   "metadata": {},
   "source": [
    "## 5. More difficult problem, more complex, linearly not separable data"
   ]
  },
  {
   "cell_type": "markdown",
   "metadata": {},
   "source": [
    "### 5.1 Data generation"
   ]
  },
  {
   "cell_type": "code",
   "execution_count": 27,
   "metadata": {},
   "outputs": [],
   "source": [
    "inputs, targets = datasets.make_moons(n_samples=40, noise=0.1)\n",
    "targets[targets == 0] = -1\n",
    "\n",
    "classA = inputs[targets == 1]\n",
    "classB = inputs[targets == -1]"
   ]
  },
  {
   "cell_type": "markdown",
   "metadata": {},
   "source": [
    "### 5.2 Visualizing data"
   ]
  },
  {
   "cell_type": "code",
   "execution_count": 28,
   "metadata": {},
   "outputs": [
    {
     "data": {
      "image/png": "[encoded data removed]",
      "text/plain": [
       "<Figure size 432x288 with 1 Axes>"
      ]
     },
     "metadata": {
      "needs_background": "light"
     },
     "output_type": "display_data"
    }
   ],
   "source": [
    "plt.scatter([p[0] for p in classA], [p[1] for p in classA], c=\"b\")\n",
    "plt.scatter([p[0] for p in classB], [p[1] for p in classB], c=\"r\")\n",
    "\n",
    "plt.show()"
   ]
  },
  {
   "cell_type": "markdown",
   "metadata": {},
   "source": [
    "### 5.3.1 Training (Polynomial kernel)"
   ]
  },
  {
   "cell_type": "code",
   "execution_count": 29,
   "metadata": {},
   "outputs": [
    {
     "name": "stdout",
     "output_type": "stream",
     "text": [
      "7 support vectors have been found.\n"
     ]
    }
   ],
   "source": [
    "# N is the number of training data points.\n",
    "N = inputs.shape[0]\n",
    "\n",
    "# Initialize the alpha vector with 0s.\n",
    "start = np.zeros(N)\n",
    "\n",
    "# Boundary conditions. Wihtout slack, there is only lower boundary.\n",
    "B = [(0,None) for b in range(N)]\n",
    "\n",
    "# Constraints.\n",
    "XC = {'type':'eq', 'fun':zero_fun}\n",
    "\n",
    "# Select the linear kernel for this simple problem.\n",
    "kwargs = {\"p\": 3}\n",
    "kernel = polynomial_kernel\n",
    "\n",
    "# Pre-compute the constant part of the objective function.\n",
    "pre_computed = pre_compute(inputs=inputs, targets=targets, kernel=kernel, **kwargs)\n",
    "\n",
    "# Optimize the alphas.\n",
    "ret = minimize(objective_func, start, bounds=B, constraints=XC)\n",
    "\n",
    "# Assert if optimizer converged to a solution.\n",
    "assert ret['success'] == True, \"Failed to fit model. Try a more complex model or more slack for this complex data.\"\n",
    "\n",
    "# Retrieve alpha.\n",
    "alpha = ret[\"x\"]\n",
    "\n",
    "# Extract the support vectors, their targets, and alpha values. \n",
    "support_vecs, support_vec_targets, support_vec_alpha = reduce_comp(inputs, targets, alpha)\n",
    "print(f\"{support_vecs.shape[0]} support vectors have been found.\")"
   ]
  },
  {
   "cell_type": "markdown",
   "metadata": {},
   "source": [
    "### 5.3.2 Visualizing the decision boundary and a new data point (Polynomial kernel)"
   ]
  },
  {
   "cell_type": "code",
   "execution_count": 30,
   "metadata": {},
   "outputs": [
    {
     "name": "stdout",
     "output_type": "stream",
     "text": [
      "Classifer: -3.415442116880852\n"
     ]
    },
    {
     "data": {
      "image/png": "[encoded data removed]",
      "text/plain": [
       "<Figure size 432x288 with 1 Axes>"
      ]
     },
     "metadata": {
      "needs_background": "light"
     },
     "output_type": "display_data"
    }
   ],
   "source": [
    "# Define new point and classify it using the indicator function.\n",
    "new_input = np.array([-0.6, 0.75])\n",
    "ind = indicator_func(new_input, support_vecs, support_vec_targets, support_vec_alpha, kernel, **kwargs)\n",
    "print(f\"Classifer: {ind}\")\n",
    "\n",
    "# Set limits for the contour plot.\n",
    "xlim = 2.5\n",
    "ylim = 1.5\n",
    "\n",
    "# Set the grid of the contour plot using the indicator function.\n",
    "xgrid = np.linspace(-xlim, xlim)\n",
    "ygrid = np.linspace(-ylim, ylim)\n",
    "grid = np.array(\n",
    "    [[indicator_func(np.array([x, y]), support_vecs, support_vec_targets, support_vec_alpha, kernel, **kwargs)\n",
    "    for x in xgrid] for y in ygrid])\n",
    "\n",
    "# Plot the contour. classB (target is -1) is red, classA (target is 1) is blue.\n",
    "plt.contour(xgrid, ygrid, grid, (-1.0, 0.0, 1.0), colors=('red', 'black', 'blue'), linewidths=(1, 3, 1))\n",
    "\n",
    "# Scatter plot the data.\n",
    "plt.scatter([p[0] for p in classA], [p[1] for p in classA], c=\"b\")\n",
    "plt.scatter([p[0] for p in classB], [p[1] for p in classB], c=\"r\")\n",
    "\n",
    "# Retrive the support vectors for each class.\n",
    "support_vecs_classA = support_vecs[support_vec_targets == 1]\n",
    "support_vecs_classB = support_vecs[support_vec_targets == -1]\n",
    "\n",
    "# Scatter plot the support vectors with the corresponding colours.\n",
    "plt.scatter([p[0] for p in support_vecs_classA],[p[1] for p in support_vecs_classA], c=\"c\", marker=\"o\")\n",
    "plt.scatter([p[0] for p in support_vecs_classB],[p[1] for p in support_vecs_classB], c=\"m\", marker=\"o\")\n",
    "\n",
    "# Scatter plot the new data point with the correct colour.\n",
    "plt.scatter(new_input[0], new_input[1], c=\"r\" if ind < 0 else \"b\", marker=\"x\", s=35)\n",
    "\n",
    "# Set the axes to be of equal lenght.\n",
    "plt.axis(\"equal\")\n",
    "plt.xlabel(\"x1\")\n",
    "plt.ylabel(\"x2\")\n",
    "\n",
    "# Save the figure.\n",
    "#plt.savefig(\"svmplot.pdf\")\n",
    "\n",
    "# Plot the figure.\n",
    "plt.show()"
   ]
  },
  {
   "cell_type": "markdown",
   "metadata": {},
   "source": [
    "### 5.4.1 Training (RBF kernel)"
   ]
  },
  {
   "cell_type": "code",
   "execution_count": 31,
   "metadata": {},
   "outputs": [
    {
     "name": "stdout",
     "output_type": "stream",
     "text": [
      "19 support vectors have been found.\n"
     ]
    }
   ],
   "source": [
    "# N is the number of training data points.\n",
    "N = inputs.shape[0]\n",
    "\n",
    "# Initialize the alpha vector with 0s.\n",
    "start = np.zeros(N)\n",
    "\n",
    "# Boundary conditions. Wihtout slack, there is only lower boundary.\n",
    "B = [(0,None) for b in range(N)]\n",
    "\n",
    "# Constraints.\n",
    "XC = {'type':'eq', 'fun':zero_fun}\n",
    "\n",
    "# Select the linear kernel for this simple problem.\n",
    "kwargs = {\"delta\": 2}\n",
    "kernel = radial_basis_function_kernel\n",
    "\n",
    "# Pre-compute the constant part of the objective function.\n",
    "pre_computed = pre_compute(inputs=inputs, targets=targets, kernel=kernel, **kwargs)\n",
    "\n",
    "# Optimize the alphas.\n",
    "ret = minimize(objective_func, start, bounds=B, constraints=XC)\n",
    "\n",
    "# Assert if optimizer converged to a solution.\n",
    "assert ret['success'] == True, \"Failed to fit model. Try a more complex model or more slack for this complex data.\"\n",
    "\n",
    "# Retrieve alpha.\n",
    "alpha = ret[\"x\"]\n",
    "\n",
    "# Extract the support vectors, their targets, and alpha values. \n",
    "support_vecs, support_vec_targets, support_vec_alpha = reduce_comp(inputs, targets, alpha)\n",
    "print(f\"{support_vecs.shape[0]} support vectors have been found.\")"
   ]
  },
  {
   "cell_type": "markdown",
   "metadata": {},
   "source": [
    "### 5.4.2 Visualizing the decision boundary and a new data point (RBF kernel)"
   ]
  },
  {
   "cell_type": "code",
   "execution_count": 32,
   "metadata": {},
   "outputs": [
    {
     "name": "stdout",
     "output_type": "stream",
     "text": [
      "Classifer: -1.166055770249967\n"
     ]
    },
    {
     "data": {
      "image/png": "[encoded data removed]",
      "text/plain": [
       "<Figure size 432x288 with 1 Axes>"
      ]
     },
     "metadata": {
      "needs_background": "light"
     },
     "output_type": "display_data"
    }
   ],
   "source": [
    "# Define new point and classify it using the indicator function.\n",
    "new_input = np.array([-0.6, 0.75])\n",
    "ind = indicator_func(new_input, support_vecs, support_vec_targets, support_vec_alpha, kernel, **kwargs)\n",
    "print(f\"Classifer: {ind}\")\n",
    "\n",
    "# Set limits for the contour plot.\n",
    "xlim = 2.5\n",
    "ylim = 1.5\n",
    "\n",
    "# Set the grid of the contour plot using the indicator function.\n",
    "xgrid = np.linspace(-xlim, xlim)\n",
    "ygrid = np.linspace(-ylim, ylim)\n",
    "grid = np.array(\n",
    "    [[indicator_func(np.array([x, y]), support_vecs, support_vec_targets, support_vec_alpha, kernel, **kwargs)\n",
    "    for x in xgrid] for y in ygrid])\n",
    "\n",
    "# Plot the contour. classB (target is -1) is red, classA (target is 1) is blue.\n",
    "plt.contour(xgrid, ygrid, grid, (-1.0, 0.0, 1.0), colors=('red', 'black', 'blue'), linewidths=(1, 3, 1))\n",
    "\n",
    "# Scatter plot the data.\n",
    "plt.scatter([p[0] for p in classA], [p[1] for p in classA], c=\"b\")\n",
    "plt.scatter([p[0] for p in classB], [p[1] for p in classB], c=\"r\")\n",
    "\n",
    "# Retrive the support vectors for each class.\n",
    "support_vecs_classA = support_vecs[support_vec_targets == 1]\n",
    "support_vecs_classB = support_vecs[support_vec_targets == -1]\n",
    "\n",
    "# Scatter plot the support vectors with the corresponding colours.\n",
    "plt.scatter([p[0] for p in support_vecs_classA],[p[1] for p in support_vecs_classA], c=\"c\", marker=\"o\")\n",
    "plt.scatter([p[0] for p in support_vecs_classB],[p[1] for p in support_vecs_classB], c=\"m\", marker=\"o\")\n",
    "\n",
    "# Scatter plot the new data point with the correct colour.\n",
    "plt.scatter(new_input[0], new_input[1], c=\"r\" if ind < 0 else \"b\", marker=\"x\", s=35)\n",
    "\n",
    "# Set the axes to be of equal lenght.\n",
    "plt.axis(\"equal\")\n",
    "plt.xlabel(\"x1\")\n",
    "plt.ylabel(\"x2\")\n",
    "\n",
    "# Save the figure.\n",
    "#plt.savefig(\"svmplot.pdf\")\n",
    "\n",
    "# Plot the figure.\n",
    "plt.show()"
   ]
  },
  {
   "cell_type": "markdown",
   "metadata": {},
   "source": [
    "## 6. Another more difficult problem, more complex, linearly not separable data"
   ]
  },
  {
   "cell_type": "markdown",
   "metadata": {},
   "source": [
    "### 6.1 Data generation"
   ]
  },
  {
   "cell_type": "code",
   "execution_count": 33,
   "metadata": {},
   "outputs": [],
   "source": [
    "inputs, targets = datasets.make_circles(n_samples=40, factor=0.5, noise=0.05)\n",
    "targets[targets == 0] = -1\n",
    "\n",
    "classA = inputs[targets == 1]\n",
    "classB = inputs[targets == -1]"
   ]
  },
  {
   "cell_type": "markdown",
   "metadata": {},
   "source": [
    "### 6.2 Data visualization"
   ]
  },
  {
   "cell_type": "code",
   "execution_count": 34,
   "metadata": {},
   "outputs": [
    {
     "data": {
      "image/png": "[encoded data removed]",
      "text/plain": [
       "<Figure size 432x288 with 1 Axes>"
      ]
     },
     "metadata": {
      "needs_background": "light"
     },
     "output_type": "display_data"
    }
   ],
   "source": [
    "plt.scatter([p[0] for p in classA], [p[1] for p in classA], c=\"b\")\n",
    "plt.scatter([p[0] for p in classB], [p[1] for p in classB], c=\"r\")\n",
    "\n",
    "plt.show()"
   ]
  },
  {
   "cell_type": "markdown",
   "metadata": {},
   "source": [
    "### 6.3.1 Training (polynomial kernel)"
   ]
  },
  {
   "cell_type": "code",
   "execution_count": 41,
   "metadata": {},
   "outputs": [
    {
     "name": "stdout",
     "output_type": "stream",
     "text": [
      "5 support vectors have been found.\n"
     ]
    }
   ],
   "source": [
    "# N is the number of training data points.\n",
    "N = inputs.shape[0]\n",
    "\n",
    "# Initialize the alpha vector with 0s.\n",
    "start = np.zeros(N)\n",
    "\n",
    "# Boundary conditions. Wihtout slack, there is only lower boundary.\n",
    "B = [(0,None) for b in range(N)]\n",
    "\n",
    "# Constraints.\n",
    "XC = {'type':'eq', 'fun':zero_fun}\n",
    "\n",
    "# Select the linear kernel for this simple problem.\n",
    "kwargs = {\"p\": 2}\n",
    "kernel = radial_basis_function_kernel\n",
    "kernel = polynomial_kernel\n",
    "\n",
    "# Pre-compute the constant part of the objective function.\n",
    "pre_computed = pre_compute(inputs=inputs, targets=targets, kernel=kernel, **kwargs)\n",
    "\n",
    "# Optimize the alphas.\n",
    "ret = minimize(objective_func, start, bounds=B, constraints=XC)\n",
    "\n",
    "# Assert if optimizer converged to a solution.\n",
    "assert ret['success'] == True, \"Failed to fit model. Try a more complex model or more slack for this complex data.\"\n",
    "\n",
    "# Retrieve alpha.\n",
    "alpha = ret[\"x\"]\n",
    "\n",
    "# Extract the support vectors, their targets, and alpha values. \n",
    "support_vecs, support_vec_targets, support_vec_alpha = reduce_comp(inputs, targets, alpha)\n",
    "print(f\"{support_vecs.shape[0]} support vectors have been found.\")"
   ]
  },
  {
   "cell_type": "markdown",
   "metadata": {},
   "source": [
    "### 6.3.2 Visualizing the decision boundary and a new data point (polynomial kernel)"
   ]
  },
  {
   "cell_type": "code",
   "execution_count": 42,
   "metadata": {},
   "outputs": [
    {
     "name": "stdout",
     "output_type": "stream",
     "text": [
      "Classifer: -1.0296551450347797\n"
     ]
    },
    {
     "data": {
      "image/png": "[encoded data removed]",
      "text/plain": [
       "<Figure size 432x288 with 1 Axes>"
      ]
     },
     "metadata": {
      "needs_background": "light"
     },
     "output_type": "display_data"
    }
   ],
   "source": [
    "# Define new point and classify it using the indicator function.\n",
    "new_input = np.array([-0.6, 0.75])\n",
    "ind = indicator_func(new_input, support_vecs, support_vec_targets, support_vec_alpha, kernel, **kwargs)\n",
    "print(f\"Classifer: {ind}\")\n",
    "\n",
    "# Set limits for the contour plot.\n",
    "xlim = 2.5\n",
    "ylim = 1.5\n",
    "\n",
    "# Set the grid of the contour plot using the indicator function.\n",
    "xgrid = np.linspace(-xlim, xlim)\n",
    "ygrid = np.linspace(-ylim, ylim)\n",
    "grid = np.array(\n",
    "    [[indicator_func(np.array([x, y]), support_vecs, support_vec_targets, support_vec_alpha, kernel, **kwargs)\n",
    "    for x in xgrid] for y in ygrid])\n",
    "\n",
    "# Plot the contour. classB (target is -1) is red, classA (target is 1) is blue.\n",
    "plt.contour(xgrid, ygrid, grid, (-1.0, 0.0, 1.0), colors=('red', 'black', 'blue'), linewidths=(1, 3, 1))\n",
    "\n",
    "# Scatter plot the data.\n",
    "plt.scatter([p[0] for p in classA], [p[1] for p in classA], c=\"b\")\n",
    "plt.scatter([p[0] for p in classB], [p[1] for p in classB], c=\"r\")\n",
    "\n",
    "# Retrive the support vectors for each class.\n",
    "support_vecs_classA = support_vecs[support_vec_targets == 1]\n",
    "support_vecs_classB = support_vecs[support_vec_targets == -1]\n",
    "\n",
    "# Scatter plot the support vectors with the corresponding colours.\n",
    "plt.scatter([p[0] for p in support_vecs_classA],[p[1] for p in support_vecs_classA], c=\"c\", marker=\"o\")\n",
    "plt.scatter([p[0] for p in support_vecs_classB],[p[1] for p in support_vecs_classB], c=\"m\", marker=\"o\")\n",
    "\n",
    "# Scatter plot the new data point with the correct colour.\n",
    "plt.scatter(new_input[0], new_input[1], c=\"r\" if ind < 0 else \"b\", marker=\"x\", s=35)\n",
    "\n",
    "# Set the axes to be of equal lenght.\n",
    "plt.axis(\"equal\")\n",
    "plt.xlabel(\"x1\")\n",
    "plt.ylabel(\"x2\")\n",
    "\n",
    "# Save the figure.\n",
    "#plt.savefig(\"svmplot.pdf\")\n",
    "\n",
    "# Plot the figure.\n",
    "plt.show()"
   ]
  },
  {
   "cell_type": "markdown",
   "metadata": {},
   "source": [
    "### 6.4.1 Training (RBF kernel)"
   ]
  },
  {
   "cell_type": "code",
   "execution_count": 43,
   "metadata": {},
   "outputs": [
    {
     "name": "stdout",
     "output_type": "stream",
     "text": [
      "28 support vectors have been found.\n"
     ]
    }
   ],
   "source": [
    "# N is the number of training data points.\n",
    "N = inputs.shape[0]\n",
    "\n",
    "# Initialize the alpha vector with 0s.\n",
    "start = np.zeros(N)\n",
    "\n",
    "# Boundary conditions. Wihtout slack, there is only lower boundary.\n",
    "B = [(0,None) for b in range(N)]\n",
    "\n",
    "# Constraints.\n",
    "XC = {'type':'eq', 'fun':zero_fun}\n",
    "\n",
    "# Select the linear kernel for this simple problem.\n",
    "kwargs = {\"delta\": 2}\n",
    "kernel = radial_basis_function_kernel\n",
    "\n",
    "# Pre-compute the constant part of the objective function.\n",
    "pre_computed = pre_compute(inputs=inputs, targets=targets, kernel=kernel, **kwargs)\n",
    "\n",
    "# Optimize the alphas.\n",
    "ret = minimize(objective_func, start, bounds=B, constraints=XC)\n",
    "\n",
    "# Assert if optimizer converged to a solution.\n",
    "assert ret['success'] == True, \"Failed to fit model. Try a more complex model or more slack for this complex data.\"\n",
    "\n",
    "# Retrieve alpha.\n",
    "alpha = ret[\"x\"]\n",
    "\n",
    "# Extract the support vectors, their targets, and alpha values. \n",
    "support_vecs, support_vec_targets, support_vec_alpha = reduce_comp(inputs, targets, alpha)\n",
    "print(f\"{support_vecs.shape[0]} support vectors have been found.\")"
   ]
  },
  {
   "cell_type": "markdown",
   "metadata": {},
   "source": [
    "### 6.4.2 Visualizing the decision boundary and a new data point (polynomial kernel)"
   ]
  },
  {
   "cell_type": "code",
   "execution_count": 44,
   "metadata": {},
   "outputs": [
    {
     "name": "stdout",
     "output_type": "stream",
     "text": [
      "Classifer: -0.7391014192493719\n"
     ]
    },
    {
     "data": {
      "image/png": "[encoded data removed]",
      "text/plain": [
       "<Figure size 432x288 with 1 Axes>"
      ]
     },
     "metadata": {
      "needs_background": "light"
     },
     "output_type": "display_data"
    }
   ],
   "source": [
    "# Define new point and classify it using the indicator function.\n",
    "new_input = np.array([-0.6, 0.75])\n",
    "ind = indicator_func(new_input, support_vecs, support_vec_targets, support_vec_alpha, kernel, **kwargs)\n",
    "print(f\"Classifer: {ind}\")\n",
    "\n",
    "# Set limits for the contour plot.\n",
    "xlim = 2.5\n",
    "ylim = 1.5\n",
    "\n",
    "# Set the grid of the contour plot using the indicator function.\n",
    "xgrid = np.linspace(-xlim, xlim)\n",
    "ygrid = np.linspace(-ylim, ylim)\n",
    "grid = np.array(\n",
    "    [[indicator_func(np.array([x, y]), support_vecs, support_vec_targets, support_vec_alpha, kernel, **kwargs)\n",
    "    for x in xgrid] for y in ygrid])\n",
    "\n",
    "# Plot the contour. classB (target is -1) is red, classA (target is 1) is blue.\n",
    "plt.contour(xgrid, ygrid, grid, (-1.0, 0.0, 1.0), colors=('red', 'black', 'blue'), linewidths=(1, 3, 1))\n",
    "\n",
    "# Scatter plot the data.\n",
    "plt.scatter([p[0] for p in classA], [p[1] for p in classA], c=\"b\")\n",
    "plt.scatter([p[0] for p in classB], [p[1] for p in classB], c=\"r\")\n",
    "\n",
    "# Retrive the support vectors for each class.\n",
    "support_vecs_classA = support_vecs[support_vec_targets == 1]\n",
    "support_vecs_classB = support_vecs[support_vec_targets == -1]\n",
    "\n",
    "# Scatter plot the support vectors with the corresponding colours.\n",
    "plt.scatter([p[0] for p in support_vecs_classA],[p[1] for p in support_vecs_classA], c=\"c\", marker=\"o\")\n",
    "plt.scatter([p[0] for p in support_vecs_classB],[p[1] for p in support_vecs_classB], c=\"m\", marker=\"o\")\n",
    "\n",
    "# Scatter plot the new data point with the correct colour.\n",
    "plt.scatter(new_input[0], new_input[1], c=\"r\" if ind < 0 else \"b\", marker=\"x\", s=35)\n",
    "\n",
    "# Set the axes to be of equal lenght.\n",
    "plt.axis(\"equal\")\n",
    "plt.xlabel(\"x1\")\n",
    "plt.ylabel(\"x2\")\n",
    "\n",
    "# Save the figure.\n",
    "#plt.savefig(\"svmplot.pdf\")\n",
    "\n",
    "# Plot the figure.\n",
    "plt.show()"
   ]
  },
  {
   "cell_type": "markdown",
   "metadata": {},
   "source": [
    "## 7. Very difficult problem, more complex, linearly not separable, noisy data"
   ]
  },
  {
   "cell_type": "markdown",
   "metadata": {},
   "source": [
    "### 7.1 Data generation"
   ]
  },
  {
   "cell_type": "code",
   "execution_count": 64,
   "metadata": {},
   "outputs": [],
   "source": [
    "inputs, targets = datasets.make_circles(n_samples=60, factor=0.4, noise=0.15)\n",
    "targets[targets == 0] = -1\n",
    "\n",
    "classA = inputs[targets == 1]\n",
    "classB = inputs[targets == -1]"
   ]
  },
  {
   "cell_type": "markdown",
   "metadata": {},
   "source": [
    "### 7.2 Data visualization"
   ]
  },
  {
   "cell_type": "code",
   "execution_count": 65,
   "metadata": {},
   "outputs": [
    {
     "data": {
      "image/png": "[encoded data removed]",
      "text/plain": [
       "<Figure size 432x288 with 1 Axes>"
      ]
     },
     "metadata": {
      "needs_background": "light"
     },
     "output_type": "display_data"
    }
   ],
   "source": [
    "plt.scatter([p[0] for p in classA], [p[1] for p in classA], c=\"b\")\n",
    "plt.scatter([p[0] for p in classB], [p[1] for p in classB], c=\"r\")\n",
    "\n",
    "plt.show()"
   ]
  },
  {
   "cell_type": "markdown",
   "metadata": {},
   "source": [
    "### 7.3.1 Training (polynomial kernel)"
   ]
  },
  {
   "cell_type": "code",
   "execution_count": 74,
   "metadata": {},
   "outputs": [
    {
     "name": "stdout",
     "output_type": "stream",
     "text": [
      "13 support vectors have been found.\n"
     ]
    }
   ],
   "source": [
    "# N is the number of training data points.\n",
    "N = inputs.shape[0]\n",
    "\n",
    "# Initialize the alpha vector with 0s.\n",
    "start = np.zeros(N)\n",
    "\n",
    "# Boundary conditions. Wihtout slack, there is only lower boundary.\n",
    "# Try with slack of 10 and None.\n",
    "C = 10\n",
    "B = [(0,C) for b in range(N)]\n",
    "\n",
    "# Constraints.\n",
    "XC = {'type':'eq', 'fun':zero_fun}\n",
    "\n",
    "# Select the linear kernel for this simple problem.\n",
    "kwargs = {\"p\": 2}\n",
    "kernel = polynomial_kernel\n",
    "\n",
    "# Pre-compute the constant part of the objective function.\n",
    "pre_computed = pre_compute(inputs=inputs, targets=targets, kernel=kernel, **kwargs)\n",
    "\n",
    "# Optimize the alphas.\n",
    "ret = minimize(objective_func, start, bounds=B, constraints=XC)\n",
    "\n",
    "# Assert if optimizer converged to a solution.\n",
    "assert ret['success'] == True, \"Failed to fit model. Try a more complex model or more slack for this complex data.\"\n",
    "\n",
    "# Retrieve alpha.\n",
    "alpha = ret[\"x\"]\n",
    "\n",
    "# Extract the support vectors, their targets, and alpha values. \n",
    "support_vecs, support_vec_targets, support_vec_alpha = reduce_comp(inputs, targets, alpha)\n",
    "print(f\"{support_vecs.shape[0]} support vectors have been found.\")"
   ]
  },
  {
   "cell_type": "markdown",
   "metadata": {},
   "source": [
    "### 7.3.2 Visualizing the decision boundary and a new data point (polynomial kernel)"
   ]
  },
  {
   "cell_type": "code",
   "execution_count": 75,
   "metadata": {},
   "outputs": [
    {
     "name": "stdout",
     "output_type": "stream",
     "text": [
      "Classifer: -1.317707967992778\n"
     ]
    },
    {
     "data": {
      "image/png": "[encoded data removed]",
      "text/plain": [
       "<Figure size 432x288 with 1 Axes>"
      ]
     },
     "metadata": {
      "needs_background": "light"
     },
     "output_type": "display_data"
    }
   ],
   "source": [
    "# Define new point and classify it using the indicator function.\n",
    "new_input = np.array([-0.6, 0.75])\n",
    "ind = indicator_func(new_input, support_vecs, support_vec_targets, support_vec_alpha, kernel, **kwargs)\n",
    "print(f\"Classifer: {ind}\")\n",
    "\n",
    "# Set limits for the contour plot.\n",
    "xlim = 2.5\n",
    "ylim = 1.5\n",
    "\n",
    "# Set the grid of the contour plot using the indicator function.\n",
    "xgrid = np.linspace(-xlim, xlim)\n",
    "ygrid = np.linspace(-ylim, ylim)\n",
    "grid = np.array(\n",
    "    [[indicator_func(np.array([x, y]), support_vecs, support_vec_targets, support_vec_alpha, kernel, **kwargs)\n",
    "    for x in xgrid] for y in ygrid])\n",
    "\n",
    "# Plot the contour. classB (target is -1) is red, classA (target is 1) is blue.\n",
    "plt.contour(xgrid, ygrid, grid, (-1.0, 0.0, 1.0), colors=('red', 'black', 'blue'), linewidths=(1, 3, 1))\n",
    "\n",
    "# Scatter plot the data.\n",
    "plt.scatter([p[0] for p in classA], [p[1] for p in classA], c=\"b\")\n",
    "plt.scatter([p[0] for p in classB], [p[1] for p in classB], c=\"r\")\n",
    "\n",
    "# Retrive the support vectors for each class.\n",
    "support_vecs_classA = support_vecs[support_vec_targets == 1]\n",
    "support_vecs_classB = support_vecs[support_vec_targets == -1]\n",
    "\n",
    "# Scatter plot the support vectors with the corresponding colours.\n",
    "plt.scatter([p[0] for p in support_vecs_classA],[p[1] for p in support_vecs_classA], c=\"c\", marker=\"o\")\n",
    "plt.scatter([p[0] for p in support_vecs_classB],[p[1] for p in support_vecs_classB], c=\"m\", marker=\"o\")\n",
    "\n",
    "# Scatter plot the new data point with the correct colour.\n",
    "plt.scatter(new_input[0], new_input[1], c=\"r\" if ind < 0 else \"b\", marker=\"x\", s=35)\n",
    "\n",
    "# Set the axes to be of equal lenght.\n",
    "plt.axis(\"equal\")\n",
    "plt.xlabel(\"x1\")\n",
    "plt.ylabel(\"x2\")\n",
    "\n",
    "# Save the figure.\n",
    "#plt.savefig(\"svmplot.pdf\")\n",
    "\n",
    "# Plot the figure.\n",
    "plt.show()"
   ]
  },
  {
   "cell_type": "code",
   "execution_count": null,
   "metadata": {},
   "outputs": [],
   "source": []
  },
  {
   "cell_type": "code",
   "execution_count": null,
   "metadata": {},
   "outputs": [],
   "source": []
  }
 ],
 "metadata": {
  "kernelspec": {
   "display_name": "svm_env",
   "language": "python",
   "name": "svm_env"
  },
  "language_info": {
   "codemirror_mode": {
    "name": "ipython",
    "version": 3
   },
   "file_extension": ".py",
   "mimetype": "text/x-python",
   "name": "python",
   "nbconvert_exporter": "python",
   "pygments_lexer": "ipython3",
   "version": "3.8.5"
  }
 },
 "nbformat": 4,
 "nbformat_minor": 4
}
